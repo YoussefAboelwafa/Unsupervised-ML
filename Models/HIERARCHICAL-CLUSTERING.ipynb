{
 "cells": [
  {
   "cell_type": "code",
   "execution_count": null,
   "metadata": {},
   "outputs": [],
   "source": [
    "import numpy as np\n",
    "import pandas as pd\n",
    "import warnings\n",
    "import matplotlib.pyplot as plt\n",
    "from sklearn.preprocessing import normalize\n",
    "from scipy.cluster.hierarchy import linkage, dendrogram, fcluster\n",
    "\n",
    "\n",
    "warnings.filterwarnings(\"ignore\", category=FutureWarning)\n",
    "\n",
    "# Read the data\n",
    "seeds_df = pd.read_csv(\"datasets/Grains/seeds.csv\", header=None)\n",
    "print(seeds_df.shape)\n",
    "seeds_df.head(10)"
   ]
  },
  {
   "cell_type": "code",
   "execution_count": null,
   "metadata": {},
   "outputs": [],
   "source": [
    "names = [\n",
    "    \"Kama wheat\",\n",
    "    \"Kama wheat\",\n",
    "    \"Kama wheat\",\n",
    "    \"Kama wheat\",\n",
    "    \"Kama wheat\",\n",
    "    \"Kama wheat\",\n",
    "    \"Kama wheat\",\n",
    "    \"Kama wheat\",\n",
    "    \"Kama wheat\",\n",
    "    \"Kama wheat\",\n",
    "    \"Kama wheat\",\n",
    "    \"Kama wheat\",\n",
    "    \"Kama wheat\",\n",
    "    \"Kama wheat\",\n",
    "    \"Rosa wheat\",\n",
    "    \"Rosa wheat\",\n",
    "    \"Rosa wheat\",\n",
    "    \"Rosa wheat\",\n",
    "    \"Rosa wheat\",\n",
    "    \"Rosa wheat\",\n",
    "    \"Rosa wheat\",\n",
    "    \"Rosa wheat\",\n",
    "    \"Rosa wheat\",\n",
    "    \"Rosa wheat\",\n",
    "    \"Rosa wheat\",\n",
    "    \"Rosa wheat\",\n",
    "    \"Rosa wheat\",\n",
    "    \"Rosa wheat\",\n",
    "    \"Canadian wheat\",\n",
    "    \"Canadian wheat\",\n",
    "    \"Canadian wheat\",\n",
    "    \"Canadian wheat\",\n",
    "    \"Canadian wheat\",\n",
    "    \"Canadian wheat\",\n",
    "    \"Canadian wheat\",\n",
    "    \"Canadian wheat\",\n",
    "    \"Canadian wheat\",\n",
    "    \"Canadian wheat\",\n",
    "    \"Canadian wheat\",\n",
    "    \"Canadian wheat\",\n",
    "    \"Canadian wheat\",\n",
    "    \"Canadian wheat\",\n",
    "]\n",
    "print(len(names))"
   ]
  },
  {
   "cell_type": "markdown",
   "metadata": {},
   "source": [
    "## Hierarchical clustering of the grain data <br>\n",
    "\n",
    "- In `method = 'complete'` the distance between clusters is the distance between the `furthest` points of the clusters\n",
    "- In `method = 'single'` the distance between clusters is the distance between the `closest` points of the clusters\n"
   ]
  },
  {
   "cell_type": "code",
   "execution_count": null,
   "metadata": {},
   "outputs": [],
   "source": [
    "# Complete linkage\n",
    "mergings = linkage(seeds_df, method=\"complete\")\n",
    "\n",
    "# Plot the dendrogram, using varieties as labels\n",
    "dendrogram(\n",
    "    mergings,\n",
    "    labels=names,\n",
    "    leaf_rotation=90,\n",
    "    leaf_font_size=6,\n",
    ")\n",
    "plt.show()"
   ]
  },
  {
   "cell_type": "markdown",
   "metadata": {},
   "source": [
    "## Extracting the clusters labels for intermediate clustering using `fcluster()`\n"
   ]
  },
  {
   "cell_type": "code",
   "execution_count": null,
   "metadata": {},
   "outputs": [],
   "source": [
    "# Use fcluster to extract labels specifiying a height of 6\n",
    "\n",
    "labels = fcluster(mergings, 4, criterion=\"distance\")\n",
    "\n",
    "# Create a DataFrame with labels and varieties as columns: df\n",
    "df = pd.DataFrame({\"labels\": labels, \"names\": names})\n",
    "\n",
    "print(df.sort_values(\"labels\"))\n",
    "\n",
    "# Create crosstab: ct\n",
    "ct = pd.crosstab(df[\"labels\"], df[\"names\"])\n",
    "\n",
    "# Display ct\n",
    "print(ct)"
   ]
  },
  {
   "cell_type": "code",
   "execution_count": null,
   "metadata": {},
   "outputs": [],
   "source": [
    "# Single linkage\n",
    "mergings = linkage(seeds_df, method=\"single\")\n",
    "\n",
    "# Plot the dendrogram, using varieties as labels\n",
    "dendrogram(\n",
    "    mergings,\n",
    "    labels=names,\n",
    "    leaf_rotation=90,\n",
    "    leaf_font_size=6,\n",
    ")\n",
    "plt.show()"
   ]
  }
 ],
 "metadata": {
  "kernelspec": {
   "display_name": "Python 3",
   "language": "python",
   "name": "python3"
  },
  "language_info": {
   "codemirror_mode": {
    "name": "ipython",
    "version": 3
   },
   "file_extension": ".py",
   "mimetype": "text/x-python",
   "name": "python",
   "nbconvert_exporter": "python",
   "pygments_lexer": "ipython3",
   "version": "3.10.12"
  },
  "orig_nbformat": 4
 },
 "nbformat": 4,
 "nbformat_minor": 2
}
